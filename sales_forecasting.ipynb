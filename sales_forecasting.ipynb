{
  "nbformat": 4,
  "nbformat_minor": 0,
  "metadata": {
    "colab": {
      "private_outputs": true,
      "provenance": [],
      "authorship_tag": "ABX9TyOXg40rkI2KCNq6vWVxL+bk",
      "include_colab_link": true
    },
    "kernelspec": {
      "name": "python3",
      "display_name": "Python 3"
    },
    "language_info": {
      "name": "python"
    }
  },
  "cells": [
    {
      "cell_type": "markdown",
      "metadata": {
        "id": "view-in-github",
        "colab_type": "text"
      },
      "source": [
        "<a href=\"https://colab.research.google.com/github/Nehasingla123/Sales-Forecasting/blob/main/sales_forecasting.ipynb\" target=\"_parent\"><img src=\"https://colab.research.google.com/assets/colab-badge.svg\" alt=\"Open In Colab\"/></a>"
      ]
    },
    {
      "cell_type": "code",
      "execution_count": null,
      "metadata": {
        "id": "kflvAXu4UPDl"
      },
      "outputs": [],
      "source": [
        "import pandas as pd\n",
        "import numpy as np\n",
        "import matplotlib.pyplot as plt\n",
        "%matplotlib inline"
      ]
    },
    {
      "cell_type": "code",
      "source": [
        "df=pd.read_csv(\"perrin-freres-monthly-champagne-.csv\")\n",
        "print(df)"
      ],
      "metadata": {
        "id": "8VTVDARcVJIM"
      },
      "execution_count": null,
      "outputs": []
    },
    {
      "cell_type": "code",
      "source": [
        "print(df.head(5))"
      ],
      "metadata": {
        "id": "xONVoH6vUdBK"
      },
      "execution_count": null,
      "outputs": []
    },
    {
      "cell_type": "code",
      "source": [
        "print(df.describe())"
      ],
      "metadata": {
        "id": "QKeH43N0VZG7"
      },
      "execution_count": null,
      "outputs": []
    },
    {
      "cell_type": "code",
      "source": [
        "print(df.info())"
      ],
      "metadata": {
        "id": "dlwO6k2QVcAp"
      },
      "execution_count": null,
      "outputs": []
    },
    {
      "cell_type": "code",
      "source": [
        "print(df.tail)"
      ],
      "metadata": {
        "id": "BAqx3J1WVsSd"
      },
      "execution_count": null,
      "outputs": []
    },
    {
      "cell_type": "code",
      "source": [
        "df.columns=[\"Months\",\"Sales\"]\n",
        "df.head()"
      ],
      "metadata": {
        "id": "yKTv4oKQVwCb"
      },
      "execution_count": null,
      "outputs": []
    },
    {
      "cell_type": "code",
      "source": [
        "df.drop(106,axis=0,inplace=True)"
      ],
      "metadata": {
        "id": "iWRcWunZV798"
      },
      "execution_count": null,
      "outputs": []
    },
    {
      "cell_type": "code",
      "source": [
        "print(df)"
      ],
      "metadata": {
        "id": "0NQFoaXRWTnu"
      },
      "execution_count": null,
      "outputs": []
    },
    {
      "cell_type": "code",
      "source": [
        "df.drop(105,axis=0,inplace=True)"
      ],
      "metadata": {
        "id": "rImTAlS1Wceg"
      },
      "execution_count": null,
      "outputs": []
    },
    {
      "cell_type": "code",
      "source": [
        "print(df)"
      ],
      "metadata": {
        "id": "Kly4nydmWegV"
      },
      "execution_count": null,
      "outputs": []
    },
    {
      "cell_type": "code",
      "source": [
        "df['Month']=pd.to_datetime(df['Month'])\n"
      ],
      "metadata": {
        "id": "qVtg3CqkW02B"
      },
      "execution_count": null,
      "outputs": []
    },
    {
      "cell_type": "code",
      "source": [
        "df.head()"
      ],
      "metadata": {
        "id": "fkeUr8fyW-Vl"
      },
      "execution_count": null,
      "outputs": []
    },
    {
      "cell_type": "code",
      "source": [
        "df.set_index('Month',inplace=True)"
      ],
      "metadata": {
        "id": "PIRHa6tEXFab"
      },
      "execution_count": null,
      "outputs": []
    },
    {
      "cell_type": "code",
      "source": [
        "print(df)"
      ],
      "metadata": {
        "id": "IyyUhj0fXOq_"
      },
      "execution_count": null,
      "outputs": []
    },
    {
      "cell_type": "code",
      "source": [
        "df.plot()"
      ],
      "metadata": {
        "id": "3zzXsUcrXQoU"
      },
      "execution_count": null,
      "outputs": []
    },
    {
      "cell_type": "code",
      "source": [
        "from statsmodels.tsa.stattools import adfuller"
      ],
      "metadata": {
        "id": "cAcuEPViXdMK"
      },
      "execution_count": null,
      "outputs": []
    },
    {
      "cell_type": "code",
      "source": [
        "test_result =adfuller(df['Sales'])"
      ],
      "metadata": {
        "id": "C3_2qXo3bEum"
      },
      "execution_count": null,
      "outputs": []
    },
    {
      "cell_type": "code",
      "source": [
        "def adfuller_test(Sales):\n",
        "  result = adfuller(Sales)\n",
        "  labels=['ADF Test Stastics','p-value','Lags used','number of observations used']\n",
        "  for value,label in zip(result,labels):\n",
        "    print(label+':'+str(value))\n",
        "  if result[1]<=0.05:\n",
        "    print(\"it is stationary\")\n",
        "  else:\n",
        "    print(\"it is not stationary\")"
      ],
      "metadata": {
        "id": "uil76wUUbRdp"
      },
      "execution_count": null,
      "outputs": []
    },
    {
      "cell_type": "code",
      "source": [
        "adfuller_test(df['Sales'])"
      ],
      "metadata": {
        "id": "VEoiubB2cAZp"
      },
      "execution_count": null,
      "outputs": []
    },
    {
      "cell_type": "code",
      "source": [
        "df['Seasonal First Difference']=df['Sales']-df['Sales'].shift(12)"
      ],
      "metadata": {
        "id": "6wmk78pCcGBs"
      },
      "execution_count": null,
      "outputs": []
    },
    {
      "cell_type": "code",
      "source": [
        "df.head(14)"
      ],
      "metadata": {
        "id": "7awQNXZGzpA5"
      },
      "execution_count": null,
      "outputs": []
    },
    {
      "cell_type": "code",
      "source": [
        "adfuller_test(df['Seasonal First Difference'].dropna())"
      ],
      "metadata": {
        "id": "URfoIykhz8kt"
      },
      "execution_count": null,
      "outputs": []
    },
    {
      "cell_type": "code",
      "source": [
        "df['Seasonal First Difference'].plot()"
      ],
      "metadata": {
        "id": "qRV_3IZ_0IFW"
      },
      "execution_count": null,
      "outputs": []
    },
    {
      "cell_type": "code",
      "source": [
        "from pandas.plotting import autocorrelation_plot\n",
        "import matplotlib.pyplot as plt\n",
        "\n",
        "autocorrelation_plot(df['Sales'])\n",
        "plt.show()\n"
      ],
      "metadata": {
        "id": "y1nxe2-n399u"
      },
      "execution_count": null,
      "outputs": []
    },
    {
      "cell_type": "code",
      "source": [
        "import matplotlib.pyplot as plt\n",
        "from statsmodels.graphics.tsaplots import plot_acf, plot_pacf\n",
        "plot_acf(df['Sales'], lags=40)\n",
        "plt.show()\n",
        "\n",
        "plot_pacf(df['Sales'], lags=40)\n",
        "plt.show()\n"
      ],
      "metadata": {
        "id": "bionTNd94ndz"
      },
      "execution_count": null,
      "outputs": []
    },
    {
      "cell_type": "code",
      "source": [
        "from statsmodels.tsa.arima_model import ARIMA"
      ],
      "metadata": {
        "id": "z6tsUBSJ6E5K"
      },
      "execution_count": null,
      "outputs": []
    },
    {
      "cell_type": "code",
      "source": [
        "from statsmodels.tsa.arima.model import ARIMA\n",
        "model = ARIMA(df['Sales'], order=(1, 1, 1))\n",
        "model_fit = model.fit()\n",
        "print(model_fit.summary())\n"
      ],
      "metadata": {
        "id": "_g5YlmQw6jEG"
      },
      "execution_count": null,
      "outputs": []
    },
    {
      "cell_type": "code",
      "source": [
        "import statsmodels.api as sm\n"
      ],
      "metadata": {
        "id": "sfRLUb317Iwp"
      },
      "execution_count": null,
      "outputs": []
    },
    {
      "cell_type": "code",
      "source": [
        "model=sm.tsa.statespace.SARIMAX(df['Sales'],order=(1,1,1),seasonal_order=(1,1,1,12))\n",
        "results = model.fit()"
      ],
      "metadata": {
        "id": "Ztbngqa88mHX"
      },
      "execution_count": null,
      "outputs": []
    },
    {
      "cell_type": "code",
      "source": [
        "df['Forecast']=results.predict(start=90,end=103,dynamic=True)\n",
        "df[['Sales','Forecast']].plot(figsize=(12,8))"
      ],
      "metadata": {
        "id": "etsvrHLQ9MU2"
      },
      "execution_count": null,
      "outputs": []
    },
    {
      "cell_type": "code",
      "source": [
        "from pandas.tseries.offsets import DateOffset\n",
        "future_datasets=[df.index[-1]+DateOffset(months=x)for x in range(0,24)]\n"
      ],
      "metadata": {
        "id": "7nm_alyb9tDG"
      },
      "execution_count": null,
      "outputs": []
    },
    {
      "cell_type": "code",
      "source": [
        "future_datasets_df=pd.DataFrame(index=future_datasets[1:],columns=df.columns)"
      ],
      "metadata": {
        "id": "IfyYirBi-FNd"
      },
      "execution_count": null,
      "outputs": []
    },
    {
      "cell_type": "code",
      "source": [
        "future_datasets_df.tail()"
      ],
      "metadata": {
        "id": "ciiZN22d-Q8n"
      },
      "execution_count": null,
      "outputs": []
    },
    {
      "cell_type": "code",
      "source": [
        "future_df = pd.concat([df,future_datasets_df])"
      ],
      "metadata": {
        "id": "tLH8XgWT-Ub4"
      },
      "execution_count": null,
      "outputs": []
    },
    {
      "cell_type": "code",
      "source": [
        "future_df['Forecast']=results.predict(start=104,end=120,dynamic=True)\n",
        "future_df[['Sales','Forecast']].plot(figsize=(12,8))"
      ],
      "metadata": {
        "id": "vm5KlZSp-dEZ"
      },
      "execution_count": null,
      "outputs": []
    }
  ]
}